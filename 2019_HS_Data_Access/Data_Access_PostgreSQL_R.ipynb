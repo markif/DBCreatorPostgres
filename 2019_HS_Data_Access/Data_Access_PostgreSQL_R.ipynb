{
 "cells": [
  {
   "cell_type": "markdown",
   "metadata": {},
   "source": [
    "# Data Access SQL\n",
    "\n",
    "This document provides an introduction on how to access the [PostgreSQL](https://www.postgresql.org/) database used for Challenge 2 and the Project."
   ]
  },
  {
   "cell_type": "markdown",
   "metadata": {},
   "source": [
    "Import the necessary packages."
   ]
  },
  {
   "cell_type": "code",
   "execution_count": 5,
   "metadata": {},
   "outputs": [
    {
     "name": "stderr",
     "output_type": "stream",
     "text": [
      "Updating HTML index of packages in '.Library'\n",
      "Making 'packages.html' ... done\n",
      "Loading required package: RPostgreSQL\n",
      "Loading required package: DBI\n"
     ]
    }
   ],
   "source": [
    "# activate install if needed\n",
    "install.packages(\"RPostgreSQL\")\n",
    "\n",
    "require(\"RPostgreSQL\")"
   ]
  },
  {
   "cell_type": "markdown",
   "metadata": {},
   "source": [
    "Define the database connection information."
   ]
  },
  {
   "cell_type": "code",
   "execution_count": 6,
   "metadata": {},
   "outputs": [],
   "source": [
    "# define the database connection string\n",
    "DB_HOST='server2053.cs.technik.fhnw.ch' # or 86.119.36.94 depending on the network\n",
    "DB_PORT = 5432\n",
    "DB_DBNAME = 'bank_db' # or 'warenkorb_db'\n",
    "DB_USERNAME = 'db_user' \n",
    "DB_PASSWORD = 'db_user_pw' "
   ]
  },
  {
   "cell_type": "markdown",
   "metadata": {},
   "source": [
    "Load the driver and setup the connection."
   ]
  },
  {
   "cell_type": "code",
   "execution_count": 7,
   "metadata": {},
   "outputs": [],
   "source": [
    "# load the PostgreSQL driver\n",
    "drv <- dbDriver(\"PostgreSQL\")\n",
    "# connect to the database\n",
    "con <- dbConnect(drv, dbname = DB_DBNAME,\n",
    "                 host = DB_HOST, port = DB_PORT,\n",
    "                 user = DB_USERNAME, password = DB_PASSWORD)"
   ]
  },
  {
   "cell_type": "markdown",
   "metadata": {},
   "source": [
    "Define the query and execute it."
   ]
  },
  {
   "cell_type": "code",
   "execution_count": 9,
   "metadata": {},
   "outputs": [],
   "source": [
    "# TODO"
   ]
  },
  {
   "cell_type": "code",
   "execution_count": 5,
   "metadata": {},
   "outputs": [
    {
     "data": {
      "text/html": [
       "TRUE"
      ],
      "text/latex": [
       "TRUE"
      ],
      "text/markdown": [
       "TRUE"
      ],
      "text/plain": [
       "[1] TRUE"
      ]
     },
     "metadata": {},
     "output_type": "display_data"
    },
    {
     "data": {
      "text/html": [
       "TRUE"
      ],
      "text/latex": [
       "TRUE"
      ],
      "text/markdown": [
       "TRUE"
      ],
      "text/plain": [
       "[1] TRUE"
      ]
     },
     "metadata": {},
     "output_type": "display_data"
    }
   ],
   "source": [
    "# close the connection (don't forget to cleanup)\n",
    "dbDisconnect(con)\n",
    "dbUnloadDriver(drv)"
   ]
  },
  {
   "cell_type": "code",
   "execution_count": null,
   "metadata": {},
   "outputs": [],
   "source": []
  }
 ],
 "metadata": {
  "kernelspec": {
   "display_name": "R",
   "language": "R",
   "name": "ir"
  },
  "language_info": {
   "codemirror_mode": "r",
   "file_extension": ".r",
   "mimetype": "text/x-r-source",
   "name": "R",
   "pygments_lexer": "r",
   "version": "3.5.1"
  }
 },
 "nbformat": 4,
 "nbformat_minor": 2
}
