{
 "cells": [
  {
   "cell_type": "markdown",
   "metadata": {},
   "source": [
    "# Data Access SQL\n",
    "\n",
    "This document provides an introduction on how to access the [PostgreSQL](https://www.postgresql.org/) database used for Challenge 2 and the Project."
   ]
  },
  {
   "cell_type": "markdown",
   "metadata": {},
   "source": [
    "Import the necessary packages."
   ]
  },
  {
   "cell_type": "code",
   "execution_count": 1,
   "metadata": {},
   "outputs": [
    {
     "name": "stderr",
     "output_type": "stream",
     "text": [
      "Updating HTML index of packages in '.Library'\n",
      "Making 'packages.html' ... done\n",
      "Loading required package: RPostgreSQL\n",
      "Loading required package: DBI\n"
     ]
    }
   ],
   "source": [
    "# activate install if needed\n",
    "install.packages(\"RPostgreSQL\")\n",
    "\n",
    "require(\"RPostgreSQL\")"
   ]
  },
  {
   "cell_type": "markdown",
   "metadata": {},
   "source": [
    "Define the database connection information."
   ]
  },
  {
   "cell_type": "code",
   "execution_count": 2,
   "metadata": {},
   "outputs": [],
   "source": [
    "# define the database connection string\n",
    "DB_HOST='server2053.cs.technik.fhnw.ch' # or 86.119.36.94 depending on the network\n",
    "DB_PORT = 5432\n",
    "DB_DBNAME = 'bank_db' # or 'warenkorb_db'\n",
    "DB_USERNAME = 'db_user' \n",
    "DB_PASSWORD = 'db_user_pw' "
   ]
  },
  {
   "cell_type": "markdown",
   "metadata": {},
   "source": [
    "Load the driver and setup the connection."
   ]
  },
  {
   "cell_type": "code",
   "execution_count": 3,
   "metadata": {},
   "outputs": [],
   "source": [
    "# load the PostgreSQL driver\n",
    "drv <- dbDriver(\"PostgreSQL\")\n",
    "# connect to the database\n",
    "con <- dbConnect(drv, dbname = DB_DBNAME,\n",
    "                 host = DB_HOST, port = DB_PORT,\n",
    "                 user = DB_USERNAME, password = DB_PASSWORD)"
   ]
  },
  {
   "cell_type": "markdown",
   "metadata": {},
   "source": [
    "Define the query and execute it."
   ]
  },
  {
   "cell_type": "code",
   "execution_count": 4,
   "metadata": {},
   "outputs": [],
   "source": [
    "query <- \"SELECT * FROM client\"\n",
    "df <- dbGetQuery(con, query)"
   ]
  },
  {
   "cell_type": "markdown",
   "metadata": {},
   "source": [
    "The result of your query is stored in the variable df (being of type DataFrame).\n",
    "http://www.r-tutor.com/r-introduction/data-frame provides a first intro on how to work with R DataFrames."
   ]
  },
  {
   "cell_type": "code",
   "execution_count": 5,
   "metadata": {},
   "outputs": [],
   "source": [
    "# provides a short overview to DataFrames\n",
    "help(df)"
   ]
  },
  {
   "cell_type": "markdown",
   "metadata": {},
   "source": [
    "Access data of a DataFrame"
   ]
  },
  {
   "cell_type": "code",
   "execution_count": 6,
   "metadata": {},
   "outputs": [
    {
     "data": {
      "text/html": [
       "<table>\n",
       "<caption>A data.frame: 6 × 3</caption>\n",
       "<thead>\n",
       "\t<tr><th scope=col>client_id</th><th scope=col>birth_number</th><th scope=col>district_id</th></tr>\n",
       "\t<tr><th scope=col>&lt;int&gt;</th><th scope=col>&lt;int&gt;</th><th scope=col>&lt;int&gt;</th></tr>\n",
       "</thead>\n",
       "<tbody>\n",
       "\t<tr><td>1</td><td>706213</td><td>18</td></tr>\n",
       "\t<tr><td>2</td><td>450204</td><td> 1</td></tr>\n",
       "\t<tr><td>3</td><td>406009</td><td> 1</td></tr>\n",
       "\t<tr><td>4</td><td>561201</td><td> 5</td></tr>\n",
       "\t<tr><td>5</td><td>605703</td><td> 5</td></tr>\n",
       "\t<tr><td>6</td><td>190922</td><td>12</td></tr>\n",
       "</tbody>\n",
       "</table>\n"
      ],
      "text/latex": [
       "A data.frame: 6 × 3\n",
       "\\begin{tabular}{r|lll}\n",
       " client\\_id & birth\\_number & district\\_id\\\\\n",
       " <int> & <int> & <int>\\\\\n",
       "\\hline\n",
       "\t 1 & 706213 & 18\\\\\n",
       "\t 2 & 450204 &  1\\\\\n",
       "\t 3 & 406009 &  1\\\\\n",
       "\t 4 & 561201 &  5\\\\\n",
       "\t 5 & 605703 &  5\\\\\n",
       "\t 6 & 190922 & 12\\\\\n",
       "\\end{tabular}\n"
      ],
      "text/markdown": [
       "\n",
       "A data.frame: 6 × 3\n",
       "\n",
       "| client_id &lt;int&gt; | birth_number &lt;int&gt; | district_id &lt;int&gt; |\n",
       "|---|---|---|\n",
       "| 1 | 706213 | 18 |\n",
       "| 2 | 450204 |  1 |\n",
       "| 3 | 406009 |  1 |\n",
       "| 4 | 561201 |  5 |\n",
       "| 5 | 605703 |  5 |\n",
       "| 6 | 190922 | 12 |\n",
       "\n"
      ],
      "text/plain": [
       "  client_id birth_number district_id\n",
       "1 1         706213       18         \n",
       "2 2         450204        1         \n",
       "3 3         406009        1         \n",
       "4 4         561201        5         \n",
       "5 5         605703        5         \n",
       "6 6         190922       12         "
      ]
     },
     "metadata": {},
     "output_type": "display_data"
    }
   ],
   "source": [
    "# preview\n",
    "head(df)"
   ]
  },
  {
   "cell_type": "code",
   "execution_count": 7,
   "metadata": {},
   "outputs": [
    {
     "data": {
      "text/html": [
       "706213"
      ],
      "text/latex": [
       "706213"
      ],
      "text/markdown": [
       "706213"
      ],
      "text/plain": [
       "[1] 706213"
      ]
     },
     "metadata": {},
     "output_type": "display_data"
    }
   ],
   "source": [
    "# first row and column \"birth_number\"\n",
    "df[1, \"birth_number\"] "
   ]
  },
  {
   "cell_type": "markdown",
   "metadata": {},
   "source": [
    "Lets try the gender extraction from https://gitlab.fhnw.ch/classes/grundkompetenz_datenbanken/blob/master/date/Date_Modifier.ipynb in R."
   ]
  },
  {
   "cell_type": "markdown",
   "metadata": {},
   "source": [
    "## Birth Number\n",
    "\n",
    "The attribute *birth_number* of the table *client* has the format \"YYMMDD\" (year|month|day) and encodes the gender in the month (+50 for females). \n",
    "\n",
    "A recurring question is how is it possible to extract gender, birth date, age etc. from *birth_number*. "
   ]
  },
  {
   "cell_type": "markdown",
   "metadata": {},
   "source": [
    "Get a first impresson..."
   ]
  },
  {
   "cell_type": "code",
   "execution_count": 8,
   "metadata": {},
   "outputs": [
    {
     "data": {
      "text/html": [
       "<table>\n",
       "<caption>A data.frame: 5 × 1</caption>\n",
       "<thead>\n",
       "\t<tr><th scope=col>birth_number</th></tr>\n",
       "\t<tr><th scope=col>&lt;int&gt;</th></tr>\n",
       "</thead>\n",
       "<tbody>\n",
       "\t<tr><td>706213</td></tr>\n",
       "\t<tr><td>450204</td></tr>\n",
       "\t<tr><td>406009</td></tr>\n",
       "\t<tr><td>561201</td></tr>\n",
       "\t<tr><td>605703</td></tr>\n",
       "</tbody>\n",
       "</table>\n"
      ],
      "text/latex": [
       "A data.frame: 5 × 1\n",
       "\\begin{tabular}{r|l}\n",
       " birth\\_number\\\\\n",
       " <int>\\\\\n",
       "\\hline\n",
       "\t 706213\\\\\n",
       "\t 450204\\\\\n",
       "\t 406009\\\\\n",
       "\t 561201\\\\\n",
       "\t 605703\\\\\n",
       "\\end{tabular}\n"
      ],
      "text/markdown": [
       "\n",
       "A data.frame: 5 × 1\n",
       "\n",
       "| birth_number &lt;int&gt; |\n",
       "|---|\n",
       "| 706213 |\n",
       "| 450204 |\n",
       "| 406009 |\n",
       "| 561201 |\n",
       "| 605703 |\n",
       "\n"
      ],
      "text/plain": [
       "  birth_number\n",
       "1 706213      \n",
       "2 450204      \n",
       "3 406009      \n",
       "4 561201      \n",
       "5 605703      "
      ]
     },
     "metadata": {},
     "output_type": "display_data"
    }
   ],
   "source": [
    "values <- dbGetQuery(con, \"SELECT birth_number FROM client LIMIT 5\")\n",
    "values"
   ]
  },
  {
   "cell_type": "markdown",
   "metadata": {},
   "source": [
    "Get some meta info on data types..."
   ]
  },
  {
   "cell_type": "code",
   "execution_count": 9,
   "metadata": {},
   "outputs": [
    {
     "data": {
      "text/html": [
       "<table>\n",
       "<caption>A data.frame: 3 × 2</caption>\n",
       "<thead>\n",
       "\t<tr><th scope=col>column_name</th><th scope=col>data_type</th></tr>\n",
       "\t<tr><th scope=col>&lt;chr&gt;</th><th scope=col>&lt;chr&gt;</th></tr>\n",
       "</thead>\n",
       "<tbody>\n",
       "\t<tr><td>client_id   </td><td>integer</td></tr>\n",
       "\t<tr><td>birth_number</td><td>integer</td></tr>\n",
       "\t<tr><td>district_id </td><td>integer</td></tr>\n",
       "</tbody>\n",
       "</table>\n"
      ],
      "text/latex": [
       "A data.frame: 3 × 2\n",
       "\\begin{tabular}{r|ll}\n",
       " column\\_name & data\\_type\\\\\n",
       " <chr> & <chr>\\\\\n",
       "\\hline\n",
       "\t client\\_id    & integer\\\\\n",
       "\t birth\\_number & integer\\\\\n",
       "\t district\\_id  & integer\\\\\n",
       "\\end{tabular}\n"
      ],
      "text/markdown": [
       "\n",
       "A data.frame: 3 × 2\n",
       "\n",
       "| column_name &lt;chr&gt; | data_type &lt;chr&gt; |\n",
       "|---|---|\n",
       "| client_id    | integer |\n",
       "| birth_number | integer |\n",
       "| district_id  | integer |\n",
       "\n"
      ],
      "text/plain": [
       "  column_name  data_type\n",
       "1 client_id    integer  \n",
       "2 birth_number integer  \n",
       "3 district_id  integer  "
      ]
     },
     "metadata": {},
     "output_type": "display_data"
    }
   ],
   "source": [
    "values <- dbGetQuery(con, \"SELECT COLUMN_NAME, DATA_TYPE FROM INFORMATION_SCHEMA.COLUMNS WHERE TABLE_NAME = 'client'\")\n",
    "values"
   ]
  },
  {
   "cell_type": "markdown",
   "metadata": {},
   "source": [
    "The attribute *birth_number* seems to be an int (not a date). Lets think about how we can extract the gender from this number. \n",
    "\n",
    "### Gender\n",
    "\n",
    "In order to determine the gender we need to extract the *MM* part from a 6 digit integer (having the format YYMMDD). In case this number is in the range 01..12 the person a male and if it is in the range 51..62 the person is a female (this can be simplified by just saying if this number is bigger than 50 the person is a female). Arithmetic operations/functions (https://www.postgresql.org/docs/9.3/functions-math.html ) help to extract the *MM* part from an integer. \n",
    "\n",
    "In a first step, we need to get rid of the *DD* part of the 6 digit integer. This can be achieved by dividing the integer with 100 (i.e. YYMMDD / 100 = YYMM (with rest DD). \n",
    "\n",
    "Building on the result of the first step (YYMM), we can now extract the *MM* with the modulo (https://de.wikipedia.org/wiki/Division_mit_Rest#Modulo ) operation (i.e. MOD(YYMM, 100) = MM).\n",
    "\n",
    "Based on the above result, we can use the CASE (https://www.postgresql.org/docs/current/functions-conditional.html ) statement to differentiate if the result is > 50 for female and <= 50 for male and name this calculated attribute *gender*."
   ]
  },
  {
   "cell_type": "code",
   "execution_count": 10,
   "metadata": {},
   "outputs": [
    {
     "data": {
      "text/html": [
       "<table>\n",
       "<caption>A data.frame: 5 × 2</caption>\n",
       "<thead>\n",
       "\t<tr><th scope=col>birth_number</th><th scope=col>gender</th></tr>\n",
       "\t<tr><th scope=col>&lt;int&gt;</th><th scope=col>&lt;chr&gt;</th></tr>\n",
       "</thead>\n",
       "<tbody>\n",
       "\t<tr><td>706213</td><td>female</td></tr>\n",
       "\t<tr><td>450204</td><td>male  </td></tr>\n",
       "\t<tr><td>406009</td><td>female</td></tr>\n",
       "\t<tr><td>561201</td><td>male  </td></tr>\n",
       "\t<tr><td>605703</td><td>female</td></tr>\n",
       "</tbody>\n",
       "</table>\n"
      ],
      "text/latex": [
       "A data.frame: 5 × 2\n",
       "\\begin{tabular}{r|ll}\n",
       " birth\\_number & gender\\\\\n",
       " <int> & <chr>\\\\\n",
       "\\hline\n",
       "\t 706213 & female\\\\\n",
       "\t 450204 & male  \\\\\n",
       "\t 406009 & female\\\\\n",
       "\t 561201 & male  \\\\\n",
       "\t 605703 & female\\\\\n",
       "\\end{tabular}\n"
      ],
      "text/markdown": [
       "\n",
       "A data.frame: 5 × 2\n",
       "\n",
       "| birth_number &lt;int&gt; | gender &lt;chr&gt; |\n",
       "|---|---|\n",
       "| 706213 | female |\n",
       "| 450204 | male   |\n",
       "| 406009 | female |\n",
       "| 561201 | male   |\n",
       "| 605703 | female |\n",
       "\n"
      ],
      "text/plain": [
       "  birth_number gender\n",
       "1 706213       female\n",
       "2 450204       male  \n",
       "3 406009       female\n",
       "4 561201       male  \n",
       "5 605703       female"
      ]
     },
     "metadata": {},
     "output_type": "display_data"
    }
   ],
   "source": [
    "values <- dbGetQuery(con, \"SELECT birth_number, CASE WHEN MOD(birth_number / 100, 100) > 50 THEN 'female' ELSE 'male' END as gender FROM client LIMIT 5\")\n",
    "values"
   ]
  },
  {
   "cell_type": "markdown",
   "metadata": {},
   "source": [
    "### TBL\n",
    "\n",
    "I realized that some of you are using TBL. This is centainly an alternative. However, from my point of view it is important that you practise pure SQL syntax. https://datacarpentry.org/R-ecology-lesson/05-r-and-databases.html#querying_the_database_with_the_sql_syntax describes how you can do this with TBL."
   ]
  },
  {
   "cell_type": "code",
   "execution_count": 11,
   "metadata": {},
   "outputs": [
    {
     "data": {
      "text/html": [
       "TRUE"
      ],
      "text/latex": [
       "TRUE"
      ],
      "text/markdown": [
       "TRUE"
      ],
      "text/plain": [
       "[1] TRUE"
      ]
     },
     "metadata": {},
     "output_type": "display_data"
    },
    {
     "data": {
      "text/html": [
       "TRUE"
      ],
      "text/latex": [
       "TRUE"
      ],
      "text/markdown": [
       "TRUE"
      ],
      "text/plain": [
       "[1] TRUE"
      ]
     },
     "metadata": {},
     "output_type": "display_data"
    }
   ],
   "source": [
    "# close the connection (don't forget to cleanup)\n",
    "dbDisconnect(con)\n",
    "dbUnloadDriver(drv)"
   ]
  },
  {
   "cell_type": "code",
   "execution_count": null,
   "metadata": {},
   "outputs": [],
   "source": []
  }
 ],
 "metadata": {
  "kernelspec": {
   "display_name": "R",
   "language": "R",
   "name": "ir"
  },
  "language_info": {
   "codemirror_mode": "r",
   "file_extension": ".r",
   "mimetype": "text/x-r-source",
   "name": "R",
   "pygments_lexer": "r",
   "version": "3.5.1"
  }
 },
 "nbformat": 4,
 "nbformat_minor": 2
}
