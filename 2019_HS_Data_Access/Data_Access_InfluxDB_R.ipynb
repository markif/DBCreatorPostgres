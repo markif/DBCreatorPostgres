{
 "cells": [
  {
   "cell_type": "markdown",
   "metadata": {},
   "source": [
    "### InfluxDB REST API\n",
    "\n",
    "It is possible to query InfluxDB by using its [Query REST API](https://docs.influxdata.com/influxdb/v1.7/tools/api/#query-http-endpoint) (this is necessary since InfluxDB does not provide an [R-client](https://community.influxdata.com/t/how-should-i-read-influxdb-from-r/860/2) anymore)."
   ]
  },
  {
   "cell_type": "markdown",
   "metadata": {},
   "source": [
    "Import the necessary packages."
   ]
  },
  {
   "cell_type": "code",
   "execution_count": 1,
   "metadata": {},
   "outputs": [
    {
     "name": "stderr",
     "output_type": "stream",
     "text": [
      "Loading required package: httr\n",
      "Loading required package: rjson\n",
      "Loading required package: stringr\n"
     ]
    }
   ],
   "source": [
    "# activate install if needed\n",
    "#install.packages(\"httr\")\n",
    "#install.packages(\"rjson\")\n",
    "#install.packages(\"stringr\")\n",
    "\n",
    "#Require the package so you can use it\n",
    "require(\"httr\")\n",
    "#require(\"jsonlite\")\n",
    "require(\"rjson\")\n",
    "require(\"stringr\")"
   ]
  },
  {
   "cell_type": "markdown",
   "metadata": {},
   "source": [
    "Define the database connection information."
   ]
  },
  {
   "cell_type": "code",
   "execution_count": 2,
   "metadata": {},
   "outputs": [],
   "source": [
    "DB_HOST <- '86.119.36.94' \n",
    "DB_PORT <- 8086\n",
    "DB_DBNAME <- 'meteorology'\n",
    "stations <- list('mythenquai', 'tiefenbrunnen')\n",
    "station <- stations[1]"
   ]
  },
  {
   "cell_type": "markdown",
   "metadata": {},
   "source": [
    "Setup the url of the REST API."
   ]
  },
  {
   "cell_type": "code",
   "execution_count": 3,
   "metadata": {},
   "outputs": [
    {
     "name": "stdout",
     "output_type": "stream",
     "text": [
      "http://86.119.36.94:8086/query?db=meteorology\n"
     ]
    }
   ],
   "source": [
    "base_url <- str_glue(\"http://{DB_HOST}:{DB_PORT}/query?db={DB_DBNAME}\")\n",
    "print(base_url)"
   ]
  },
  {
   "cell_type": "code",
   "execution_count": null,
   "metadata": {},
   "outputs": [],
   "source": []
  }
 ],
 "metadata": {
  "kernelspec": {
   "display_name": "R",
   "language": "R",
   "name": "ir"
  },
  "language_info": {
   "codemirror_mode": "r",
   "file_extension": ".r",
   "mimetype": "text/x-r-source",
   "name": "R",
   "pygments_lexer": "r",
   "version": "3.5.1"
  }
 },
 "nbformat": 4,
 "nbformat_minor": 2
}
