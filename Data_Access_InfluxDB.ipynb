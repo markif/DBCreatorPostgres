{
 "cells": [
  {
   "cell_type": "markdown",
   "metadata": {},
   "source": [
    "# Data Access InfluxDB\n",
    "\n",
    "This document provides an introduction on how to access the [InfluxDB](https://docs.influxdata.com/influxdb) database used in Challenge 5."
   ]
  },
  {
   "cell_type": "markdown",
   "metadata": {},
   "source": [
    "First we need to import the necessary python modules (we assume that the necessary OS dependencies are already installed). "
   ]
  },
  {
   "cell_type": "code",
   "execution_count": 1,
   "metadata": {},
   "outputs": [],
   "source": [
    "# install the modules on the OS (uncomment if needed)\n",
    "#!pip install pandas\n",
    "#!pip install influxdb\n",
    "\n",
    "# import the modules\n",
    "import pandas as pd\n",
    "from influxdb import DataFrameClient"
   ]
  },
  {
   "cell_type": "markdown",
   "metadata": {},
   "source": [
    "Next we define the database connection."
   ]
  },
  {
   "cell_type": "code",
   "execution_count": 2,
   "metadata": {
    "scrolled": true
   },
   "outputs": [],
   "source": [
    "# define the database connection string\n",
    "DB_HOST = '86.119.36.94' \n",
    "DB_PORT = '8086'\n",
    "DB_DBNAME = 'meteorology'\n",
    "stations = ['mythenquai', 'tiefenbrunnen']\n",
    "\n",
    "client = DataFrameClient(host=DB_HOST, port=DB_PORT, database=DB_DBNAME)\n",
    "client.switch_database(DB_DBNAME)"
   ]
  },
  {
   "cell_type": "markdown",
   "metadata": {},
   "source": [
    "Let's [query](https://docs.influxdata.com/influxdb/v1.7/query_language/data_exploration/) some data:"
   ]
  },
  {
   "cell_type": "code",
   "execution_count": 3,
   "metadata": {},
   "outputs": [
    {
     "name": "stdout",
     "output_type": "stream",
     "text": [
      "                            count\n",
      "1970-01-01 00:00:00+00:00  634661\n",
      "                            count\n",
      "1970-01-01 00:00:00+00:00  628207\n"
     ]
    }
   ],
   "source": [
    "query = \"SELECT COUNT(air_temperature) FROM \\\"{}\\\",\\\"{}\\\"\".format(stations[0], stations[1])\n",
    "result = client.query(query)\n",
    "print(result[stations[0]])\n",
    "print(result[stations[1]])"
   ]
  },
  {
   "cell_type": "markdown",
   "metadata": {},
   "source": [
    "Internally, InfluxDB stores time in [UTC](https://en.wikipedia.org/wiki/Coordinated_Universal_Time). Depending on the season (daylight saving time), our time zone (Zurich) has an offset of +02:00 or +01:00. Therefore, it is important to set this offset in the query. Otherwise, InfluxDB's query engine would have to make assumptions on which time zone it should use."
   ]
  },
  {
   "cell_type": "code",
   "execution_count": 4,
   "metadata": {},
   "outputs": [
    {
     "name": "stdout",
     "output_type": "stream",
     "text": [
      "                           count\n",
      "2019-07-22 22:00:00+00:00    145\n",
      "                           count\n",
      "2019-07-22 22:00:00+00:00    145\n"
     ]
    }
   ],
   "source": [
    "query = \"SELECT COUNT(air_temperature) FROM \\\"{}\\\",\\\"{}\\\" WHERE time >= '2019-07-23T00:00:00+02:00' AND time <= '2019-07-24T00:00:00+02:00'\".format(stations[0], stations[1])\n",
    "result = client.query(query)\n",
    "print(result[stations[0]])\n",
    "print(result[stations[1]])"
   ]
  },
  {
   "cell_type": "code",
   "execution_count": 5,
   "metadata": {},
   "outputs": [
    {
     "name": "stdout",
     "output_type": "stream",
     "text": [
      "                           air_temperature\n",
      "2019-07-22 22:00:00+00:00             22.2\n",
      "2019-07-22 22:10:00+00:00             22.1\n",
      "2019-07-22 22:20:00+00:00             21.9\n",
      "2019-07-22 22:30:00+00:00             21.8\n",
      "2019-07-22 22:40:00+00:00             21.7\n",
      "2019-07-22 22:50:00+00:00             21.5\n",
      "2019-07-22 23:00:00+00:00             21.4\n",
      "2019-07-22 23:10:00+00:00             21.2\n",
      "2019-07-22 23:20:00+00:00             21.1\n",
      "2019-07-22 23:30:00+00:00             20.9\n",
      "2019-07-22 23:40:00+00:00             20.8\n",
      "2019-07-22 23:50:00+00:00             20.7\n",
      "2019-07-23 00:00:00+00:00             20.6\n",
      "2019-07-23 00:10:00+00:00             20.6\n",
      "2019-07-23 00:20:00+00:00             20.5\n",
      "2019-07-23 00:30:00+00:00             20.4\n",
      "2019-07-23 00:40:00+00:00             20.2\n",
      "2019-07-23 00:50:00+00:00             20.1\n",
      "2019-07-23 01:00:00+00:00             20.1\n",
      "2019-07-23 01:10:00+00:00             20.0\n",
      "2019-07-23 01:20:00+00:00             19.9\n",
      "2019-07-23 01:30:00+00:00             19.9\n",
      "2019-07-23 01:40:00+00:00             19.9\n",
      "2019-07-23 01:50:00+00:00             19.9\n",
      "2019-07-23 02:00:00+00:00             19.9\n",
      "2019-07-23 02:10:00+00:00             19.9\n",
      "2019-07-23 02:20:00+00:00             19.8\n",
      "2019-07-23 02:30:00+00:00             19.7\n",
      "2019-07-23 02:40:00+00:00             19.7\n",
      "2019-07-23 02:50:00+00:00             19.6\n",
      "...                                    ...\n",
      "2019-07-23 17:10:00+00:00             32.3\n",
      "2019-07-23 17:20:00+00:00             32.3\n",
      "2019-07-23 17:30:00+00:00             31.7\n",
      "2019-07-23 17:40:00+00:00             31.4\n",
      "2019-07-23 17:50:00+00:00             31.1\n",
      "2019-07-23 18:00:00+00:00             30.9\n",
      "2019-07-23 18:10:00+00:00             30.7\n",
      "2019-07-23 18:20:00+00:00             30.5\n",
      "2019-07-23 18:30:00+00:00             30.5\n",
      "2019-07-23 18:40:00+00:00             30.2\n",
      "2019-07-23 18:50:00+00:00             30.0\n",
      "2019-07-23 19:00:00+00:00             29.6\n",
      "2019-07-23 19:10:00+00:00             28.5\n",
      "2019-07-23 19:20:00+00:00             27.8\n",
      "2019-07-23 19:30:00+00:00             27.2\n",
      "2019-07-23 19:40:00+00:00             27.0\n",
      "2019-07-23 19:50:00+00:00             26.7\n",
      "2019-07-23 20:00:00+00:00             26.4\n",
      "2019-07-23 20:10:00+00:00             26.1\n",
      "2019-07-23 20:20:00+00:00             25.9\n",
      "2019-07-23 20:30:00+00:00             25.8\n",
      "2019-07-23 20:40:00+00:00             25.5\n",
      "2019-07-23 20:50:00+00:00             25.2\n",
      "2019-07-23 21:00:00+00:00             25.0\n",
      "2019-07-23 21:10:00+00:00             24.8\n",
      "2019-07-23 21:20:00+00:00             24.7\n",
      "2019-07-23 21:30:00+00:00             24.5\n",
      "2019-07-23 21:40:00+00:00             24.3\n",
      "2019-07-23 21:50:00+00:00             24.0\n",
      "2019-07-23 22:00:00+00:00             23.8\n",
      "\n",
      "[145 rows x 1 columns]\n",
      "                           air_temperature\n",
      "2019-07-22 22:00:00+00:00             23.1\n",
      "2019-07-22 22:10:00+00:00             22.9\n",
      "2019-07-22 22:20:00+00:00             22.7\n",
      "2019-07-22 22:30:00+00:00             22.5\n",
      "2019-07-22 22:40:00+00:00             22.4\n",
      "2019-07-22 22:50:00+00:00             22.2\n",
      "2019-07-22 23:00:00+00:00             22.1\n",
      "2019-07-22 23:10:00+00:00             21.9\n",
      "2019-07-22 23:20:00+00:00             21.8\n",
      "2019-07-22 23:30:00+00:00             21.7\n",
      "2019-07-22 23:40:00+00:00             21.6\n",
      "2019-07-22 23:50:00+00:00             21.5\n",
      "2019-07-23 00:00:00+00:00             21.4\n",
      "2019-07-23 00:10:00+00:00             21.3\n",
      "2019-07-23 00:20:00+00:00             21.1\n",
      "2019-07-23 00:30:00+00:00             21.0\n",
      "2019-07-23 00:40:00+00:00             21.0\n",
      "2019-07-23 00:50:00+00:00             20.9\n",
      "2019-07-23 01:00:00+00:00             20.9\n",
      "2019-07-23 01:10:00+00:00             20.8\n",
      "2019-07-23 01:20:00+00:00             20.7\n",
      "2019-07-23 01:30:00+00:00             20.6\n",
      "2019-07-23 01:40:00+00:00             20.6\n",
      "2019-07-23 01:50:00+00:00             20.5\n",
      "2019-07-23 02:00:00+00:00             20.4\n",
      "2019-07-23 02:10:00+00:00             20.3\n",
      "2019-07-23 02:20:00+00:00             20.3\n",
      "2019-07-23 02:30:00+00:00             20.2\n",
      "2019-07-23 02:40:00+00:00             20.2\n",
      "2019-07-23 02:50:00+00:00             20.1\n",
      "...                                    ...\n",
      "2019-07-23 17:10:00+00:00             32.9\n",
      "2019-07-23 17:20:00+00:00             32.9\n",
      "2019-07-23 17:30:00+00:00             32.8\n",
      "2019-07-23 17:40:00+00:00             32.8\n",
      "2019-07-23 17:50:00+00:00             32.7\n",
      "2019-07-23 18:00:00+00:00             32.6\n",
      "2019-07-23 18:10:00+00:00             32.4\n",
      "2019-07-23 18:20:00+00:00             32.1\n",
      "2019-07-23 18:30:00+00:00             31.9\n",
      "2019-07-23 18:40:00+00:00             31.6\n",
      "2019-07-23 18:50:00+00:00             31.2\n",
      "2019-07-23 19:00:00+00:00             30.8\n",
      "2019-07-23 19:10:00+00:00             30.3\n",
      "2019-07-23 19:20:00+00:00             29.8\n",
      "2019-07-23 19:30:00+00:00             29.3\n",
      "2019-07-23 19:40:00+00:00             28.9\n",
      "2019-07-23 19:50:00+00:00             28.6\n",
      "2019-07-23 20:00:00+00:00             28.3\n",
      "2019-07-23 20:10:00+00:00             28.0\n",
      "2019-07-23 20:20:00+00:00             27.5\n",
      "2019-07-23 20:30:00+00:00             27.2\n",
      "2019-07-23 20:40:00+00:00             26.9\n",
      "2019-07-23 20:50:00+00:00             26.6\n",
      "2019-07-23 21:00:00+00:00             26.4\n",
      "2019-07-23 21:10:00+00:00             26.2\n",
      "2019-07-23 21:20:00+00:00             26.0\n",
      "2019-07-23 21:30:00+00:00             25.8\n",
      "2019-07-23 21:40:00+00:00             25.6\n",
      "2019-07-23 21:50:00+00:00             25.4\n",
      "2019-07-23 22:00:00+00:00             25.2\n",
      "\n",
      "[145 rows x 1 columns]\n"
     ]
    }
   ],
   "source": [
    "query = \"SELECT air_temperature FROM \\\"{}\\\",\\\"{}\\\" WHERE time >= '2019-07-23T00:00:00+02:00' AND time <= '2019-07-24T00:00:00+02:00'\".format(stations[0], stations[1])\n",
    "result = client.query(query)\n",
    "print(result[stations[0]])\n",
    "print(result[stations[1]])"
   ]
  },
  {
   "cell_type": "code",
   "execution_count": null,
   "metadata": {},
   "outputs": [],
   "source": []
  }
 ],
 "metadata": {
  "kernelspec": {
   "display_name": "Python 3",
   "language": "python",
   "name": "python3"
  },
  "language_info": {
   "codemirror_mode": {
    "name": "ipython",
    "version": 3
   },
   "file_extension": ".py",
   "mimetype": "text/x-python",
   "name": "python",
   "nbconvert_exporter": "python",
   "pygments_lexer": "ipython3",
   "version": "3.7.3"
  }
 },
 "nbformat": 4,
 "nbformat_minor": 2
}
